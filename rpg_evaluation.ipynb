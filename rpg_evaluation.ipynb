{
 "cells": [
  {
   "cell_type": "code",
   "execution_count": null,
   "metadata": {},
   "outputs": [],
   "source": [
    "import csv\n",
    "import numpy as np\n",
    "\n",
    "resultsfile_path = 'data_textrpg_2020-03-07_12-00.csv'\n",
    "\n",
    "gender_index = 6\n",
    "age_index = 7\n",
    "rpg_code_index = 36\n",
    "last_item_index = 44\n",
    "\n",
    "genders = []\n",
    "ages = []\n",
    "rpg_codes = []\n",
    "item_header = []\n",
    "item_results = []\n",
    "\n",
    "with open(resultsfile_path, newline='') as resultsfile:\n",
    "    csvreader = csv.reader(resultsfile, delimiter='\\t', quotechar='\"')\n",
    "    header = next(csvreader)\n",
    "    item_header.extend(header[age_index+1:rpg_code_index])\n",
    "    \n",
    "    for row in csvreader:\n",
    "        genders.append(row[gender_index])\n",
    "        ages.append(row[age_index])\n",
    "        rpg_codes.append(row[rpg_code_index])\n",
    "        item_row_results = row[age_index+1:rpg_code_index]\n",
    "        item_results.append(item_row_results)"
   ]
  },
  {
   "cell_type": "code",
   "execution_count": null,
   "metadata": {},
   "outputs": [],
   "source": [
    "item_results_array = np.array(item_results, np.int8)\n",
    "ages = np.array(ages, np.uint8)"
   ]
  },
  {
   "cell_type": "code",
   "execution_count": null,
   "metadata": {},
   "outputs": [],
   "source": [
    "questionnaire_order_path = 'items_in_questionnaire_order.txt'\n",
    "game_order_path = 'items_in_game_order.txt'\n",
    "questionnaire_list = []\n",
    "game_list = []\n",
    "with open(questionnaire_order_path) as questionnaire_order_file:\n",
    "    for line in questionnaire_order_file:\n",
    "        questionnaire_list.append(line.strip())\n",
    "        \n",
    "with open(game_order_path) as game_order_file:\n",
    "    for line in game_order_file:\n",
    "        game_list.append(line.strip())\n"
   ]
  },
  {
   "cell_type": "code",
   "execution_count": null,
   "metadata": {},
   "outputs": [],
   "source": [
    "import re\n",
    "game_answer_exp = '-?[0-9]'\n",
    "rpg_answers = []\n",
    "for rpg_code in rpg_codes:\n",
    "    rpg_answers.append(re.findall(game_answer_exp, rpg_code))"
   ]
  },
  {
   "cell_type": "code",
   "execution_count": null,
   "metadata": {},
   "outputs": [],
   "source": [
    "rpg_answers = np.array(rpg_answers, np.int8)\n",
    "rpg_answers.shape\n",
    "rpg_answers_ordered = np.zeros((rpg_answers.shape[0], len(questionnaire_list)), np.int8)\n",
    "for row in range(rpg_answers.shape[0]):\n",
    "    for column in range(rpg_answers.shape[1]):\n",
    "        if(game_list[column] in questionnaire_list):\n",
    "            rpg_answers_ordered[row, questionnaire_list.index(game_list[column])] = rpg_answers[row,column]\n",
    "        "
   ]
  },
  {
   "cell_type": "code",
   "execution_count": null,
   "metadata": {},
   "outputs": [],
   "source": [
    "rpg_answers_normalized = np.abs(rpg_answers_ordered)\n",
    "questionnaire_answers_normalized = np.abs(item_results_array)\n",
    "for i, header_name in enumerate(item_header):\n",
    "    if \"NEG\" in header_name:\n",
    "        rpg_answers_normalized[:,i] = rpg_answers_normalized[:,i]*(-1)\n",
    "        questionnaire_answers_normalized[:,i] = questionnaire_answers_normalized[:,i]*(-1)"
   ]
  },
  {
   "cell_type": "code",
   "execution_count": null,
   "metadata": {},
   "outputs": [],
   "source": [
    "combined_header = [item for tuple in \n",
    "                   zip(item_header, [item_header[i] + '_GAME' for i in range(len(item_header))]) \n",
    "                   for item in tuple]"
   ]
  },
  {
   "cell_type": "code",
   "execution_count": null,
   "metadata": {},
   "outputs": [],
   "source": [
    "combined_results = [item for tuple in \n",
    "                   zip([questionnaire_answers_normalized[:,i] for i in range(questionnaire_answers_normalized.shape[1])],\n",
    "                                    [rpg_answers_normalized[:,i] for i in range(rpg_answers_normalized.shape[1])]) \n",
    "                   for item in tuple]\n",
    "combined_results = np.array(combined_results).T"
   ]
  },
  {
   "cell_type": "code",
   "execution_count": null,
   "metadata": {},
   "outputs": [],
   "source": [
    "def getTotalDisEmpRes(i, game):\n",
    "    results_to_use = questionnaire_answers_normalized\n",
    "    if game:\n",
    "        results_to_use = rpg_answers_normalized\n",
    "    dis = np.sum(results_to_use[i,np.where([(\"DIS\" in ih) for ih in item_header])])\n",
    "    emp = np.sum(results_to_use[i,np.where([(\"EMP\" in ih) for ih in item_header])])\n",
    "    res = np.sum(results_to_use[i,np.where([(\"RES\" in ih) for ih in item_header])])\n",
    "    return (dis, emp, res)\n",
    "\n",
    "total_scale_headers = [\"TOTAL_\" + scale + gamestring for gamestring in [\"\", \"_GAME\"] for scale in [\"DIS\", \"EMP\", \"RES\"]]\n",
    "total_scale_results = np.array([[getTotalDisEmpRes(i, game) for game in [False, True]] for i in range(questionnaire_answers_normalized.shape[0])])\n",
    "total_scale_results = total_scale_results.reshape((len(questionnaire_answers_normalized),len(total_scale_headers)))"
   ]
  },
  {
   "cell_type": "code",
   "execution_count": null,
   "metadata": {},
   "outputs": [],
   "source": [
    "from scipy import stats\n",
    "with open('sorted_results.csv', mode='w') as sorted_results_file:\n",
    "    csv_writer = csv.writer(sorted_results_file, delimiter='\\t', quotechar='\"', quoting=csv.QUOTE_MINIMAL)\n",
    "    sorted_results_header = [\"Nr\", \"Gender\", \"Age\"]\n",
    "    sorted_results_header.extend(combined_header)\n",
    "    sorted_results_header.extend(total_scale_headers)\n",
    "    csv_writer.writerow(sorted_results_header)\n",
    "    for i in range(combined_results.shape[0]):\n",
    "        row = [i, genders[i], ages[i]]\n",
    "        row.extend(combined_results[i,:])\n",
    "        row.extend(total_scale_results[i,:])\n",
    "        csv_writer.writerow(row)\n",
    "        \n",
    "    moderow = [\"Mode\", \"-\", stats.mode(ages)[0][0]]\n",
    "    moderow.extend([stats.mode(combined_results[:, column])[0][0] \n",
    "                      for column in range(combined_results.shape[1])])\n",
    "    moderow.extend([stats.mode(total_scale_results[:, column])[0][0] \n",
    "                      for column in range(total_scale_results.shape[1])])\n",
    "    csv_writer.writerow(moderow)     \n",
    "    \n",
    "    medianrow = [\"Median\", \"-\", np.median(ages)]\n",
    "    medianrow.extend([np.median(combined_results[:, column]) \n",
    "                      for column in range(combined_results.shape[1])])\n",
    "    medianrow.extend([np.median(total_scale_results[:, column]) \n",
    "                      for column in range(total_scale_results.shape[1])])\n",
    "    csv_writer.writerow(medianrow)\n",
    "    \n",
    "    meanrow = [\"Mean\", \"-\", np.around(np.mean(ages),decimals = 2)]\n",
    "    meanrow.extend([np.around(np.mean(combined_results[:, column]),decimals = 2) \n",
    "                      for column in range(combined_results.shape[1])])\n",
    "    meanrow.extend([np.around(np.mean(total_scale_results[:, column]), decimals = 2) \n",
    "                      for column in range(total_scale_results.shape[1])])\n",
    "    csv_writer.writerow(meanrow)\n",
    "    \n",
    "    stdrow = [\"STD\", \"-\", np.around(np.std(ages),decimals = 2)]\n",
    "    stdrow.extend([np.around(np.std(combined_results[:, column]),decimals = 2) \n",
    "                      for column in range(combined_results.shape[1])])\n",
    "    stdrow.extend([np.around(np.std(total_scale_results[:, column]), decimals = 2) \n",
    "                      for column in range(total_scale_results.shape[1])])\n",
    "    csv_writer.writerow(stdrow)"
   ]
  }
 ],
 "metadata": {
  "kernelspec": {
   "display_name": "Python 3",
   "language": "python",
   "name": "python3"
  },
  "language_info": {
   "codemirror_mode": {
    "name": "ipython",
    "version": 3
   },
   "file_extension": ".py",
   "mimetype": "text/x-python",
   "name": "python",
   "nbconvert_exporter": "python",
   "pygments_lexer": "ipython3",
   "version": "3.7.3"
  }
 },
 "nbformat": 4,
 "nbformat_minor": 2
}
