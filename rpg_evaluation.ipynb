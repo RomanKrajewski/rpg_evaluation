{
  "nbformat": 4,
  "nbformat_minor": 0,
  "metadata": {
    "kernelspec": {
      "display_name": "Python 3",
      "language": "python",
      "name": "python3"
    },
    "language_info": {
      "codemirror_mode": {
        "name": "ipython",
        "version": 3
      },
      "file_extension": ".py",
      "mimetype": "text/x-python",
      "name": "python",
      "nbconvert_exporter": "python",
      "pygments_lexer": "ipython3",
      "version": "3.7.3"
    },
    "colab": {
      "name": "rpg_evaluation.ipynb",
      "provenance": [],
      "collapsed_sections": [],
      "toc_visible": true,
      "include_colab_link": true
    }
  },
  "cells": [
    {
      "cell_type": "markdown",
      "metadata": {
        "id": "view-in-github",
        "colab_type": "text"
      },
      "source": [
        "<a href=\"https://colab.research.google.com/github/RomanKrajewski/rpg_evaluation/blob/master/rpg_evaluation.ipynb\" target=\"_parent\"><img src=\"https://colab.research.google.com/assets/colab-badge.svg\" alt=\"Open In Colab\"/></a>"
      ]
    },
    {
      "cell_type": "code",
      "metadata": {
        "id": "L9bNOCx9SFMZ",
        "colab_type": "code",
        "colab": {}
      },
      "source": [
        "from google.colab import drive\n",
        "drive.mount('/content/drive')\n"
      ],
      "execution_count": 0,
      "outputs": []
    },
    {
      "cell_type": "code",
      "metadata": {
        "id": "7nm8gC5pP1Wk",
        "colab_type": "code",
        "colab": {}
      },
      "source": [
        "import csv\n",
        "import numpy as np\n",
        "from sklearn.metrics import mean_squared_error as mse\n",
        "import math\n",
        "import matplotlib.pyplot as plt\n",
        "import json\n",
        "import re\n",
        "from scipy import stats\n",
        "import pandas\n",
        "\n",
        "\n",
        "%cd '/content/drive/My Drive/Colab Notebooks/rpg_files'\n",
        "resultsfile_path = 'data_textrpg_2020-03-07_12-00.csv'\n",
        "\n",
        "gender_index = 6\n",
        "age_index = 7\n",
        "rpg_code_index = 36\n",
        "last_item_index = 44\n",
        "\n",
        "genders = []\n",
        "ages = []\n",
        "rpg_codes = []\n",
        "item_header = []\n",
        "item_results = []\n",
        "\n",
        "with open(resultsfile_path, newline='') as resultsfile:\n",
        "    csvreader = csv.reader(resultsfile, delimiter='\\t', quotechar='\"')\n",
        "    header = next(csvreader)\n",
        "    item_header.extend(header[age_index+1:rpg_code_index])\n",
        "    \n",
        "    for row in csvreader:\n",
        "        genders.append(row[gender_index])\n",
        "        ages.append(row[age_index])\n",
        "        rpg_codes.append(row[rpg_code_index])\n",
        "        item_row_results = row[age_index+1:rpg_code_index]\n",
        "        item_results.append(item_row_results)"
      ],
      "execution_count": 0,
      "outputs": []
    },
    {
      "cell_type": "code",
      "metadata": {
        "id": "rLXMcMOmP1W7",
        "colab_type": "code",
        "colab": {}
      },
      "source": [
        "item_results_array = np.array(item_results, np.int8)\n",
        "ages = np.array(ages, np.uint8)"
      ],
      "execution_count": 0,
      "outputs": []
    },
    {
      "cell_type": "code",
      "metadata": {
        "id": "lfms61mvP1XM",
        "colab_type": "code",
        "colab": {}
      },
      "source": [
        "questionnaire_order_path = 'items_in_questionnaire_order.txt'\n",
        "game_order_path = 'items_in_game_order.txt'\n",
        "questionnaire_list = []\n",
        "questionnaire_labels = {}\n",
        "game_labels = {}\n",
        "game_list = []\n",
        "with open(questionnaire_order_path) as questionnaire_order_file:\n",
        "    for i, line in enumerate(questionnaire_order_file):\n",
        "        full_question = line.strip()\n",
        "        questionnaire_list.append(full_question)\n",
        "        questionnaire_labels[item_header[i]] = full_question\n",
        "        \n",
        "with open(game_order_path) as game_order_file:\n",
        "    for line in game_order_file:\n",
        "        game_list.append(line.strip())\n"
      ],
      "execution_count": 0,
      "outputs": []
    },
    {
      "cell_type": "code",
      "metadata": {
        "id": "kmv4dbdOP1Xe",
        "colab_type": "code",
        "colab": {}
      },
      "source": [
        "game_answer_exp = '-?[0-9]'\n",
        "rpg_answers = []\n",
        "for rpg_code in rpg_codes:\n",
        "    rpg_answers.append(re.findall(game_answer_exp, rpg_code))"
      ],
      "execution_count": 0,
      "outputs": []
    },
    {
      "cell_type": "code",
      "metadata": {
        "id": "R2h5XshOP1Xr",
        "colab_type": "code",
        "colab": {}
      },
      "source": [
        "with open('game_questions.json') as game_questions_file:\n",
        "    situations = json.load(game_questions_file)\n",
        "\n",
        "rpg_answers = np.array(rpg_answers, np.int8)\n",
        "rpg_answers_ordered = np.zeros((rpg_answers.shape[0], len(questionnaire_list)), np.int8)\n",
        "for column in range(rpg_answers.shape[1]):\n",
        "        if(game_list[column] in questionnaire_list):\n",
        "            game_item_questionnaire_index = questionnaire_list.index(game_list[column])\n",
        "            rpg_answers_ordered[:, game_item_questionnaire_index] = rpg_answers[:,column]\n",
        "            game_labels[item_header[game_item_questionnaire_index]] = situations['situations'][column]['text']\n"
      ],
      "execution_count": 0,
      "outputs": []
    },
    {
      "cell_type": "code",
      "metadata": {
        "id": "SuYkucBSP1X2",
        "colab_type": "code",
        "colab": {}
      },
      "source": [
        "rpg_answers_normalized = np.abs(rpg_answers_ordered)\n",
        "questionnaire_answers_normalized = np.abs(item_results_array)\n",
        "for i, header_name in enumerate(item_header):\n",
        "    if \"NEG\" in header_name:\n",
        "        rpg_answers_normalized[:,i] = rpg_answers_normalized[:,i]*(-1)\n",
        "        questionnaire_answers_normalized[:,i] = questionnaire_answers_normalized[:,i]*(-1)"
      ],
      "execution_count": 0,
      "outputs": []
    },
    {
      "cell_type": "code",
      "metadata": {
        "id": "pU4bq1xAP1X_",
        "colab_type": "code",
        "colab": {}
      },
      "source": [
        "combined_header = [item for tuple in \n",
        "                   zip(item_header, [item_header[i] + '_GAME' for i in range(len(item_header))]) \n",
        "                   for item in tuple]"
      ],
      "execution_count": 0,
      "outputs": []
    },
    {
      "cell_type": "code",
      "metadata": {
        "id": "u5uFiEPbP1YH",
        "colab_type": "code",
        "colab": {}
      },
      "source": [
        "combined_results = [item for tuple in \n",
        "                   zip([questionnaire_answers_normalized[:,i] for i in range(questionnaire_answers_normalized.shape[1])],\n",
        "                                    [rpg_answers_normalized[:,i] for i in range(rpg_answers_normalized.shape[1])]) \n",
        "                   for item in tuple]\n",
        "combined_results = np.array(combined_results).T"
      ],
      "execution_count": 0,
      "outputs": []
    },
    {
      "cell_type": "code",
      "metadata": {
        "id": "JPakM-zwP1YT",
        "colab_type": "code",
        "colab": {}
      },
      "source": [
        "def getTotalDisEmpRes(i, game):\n",
        "    results_to_use = questionnaire_answers_normalized\n",
        "    if game:\n",
        "        results_to_use = rpg_answers_normalized\n",
        "    dis = np.sum(results_to_use[i,np.where([(\"DIS\" in ih) for ih in item_header])])\n",
        "    emp = np.sum(results_to_use[i,np.where([(\"EMP\" in ih) for ih in item_header])])\n",
        "    res = np.sum(results_to_use[i,np.where([(\"RES\" in ih) for ih in item_header])])\n",
        "    return (dis, emp, res)\n",
        "\n",
        "total_scale_headers = [\"TOTAL_\" + scale + gamestring for gamestring in [\"\", \"_GAME\"] for scale in [\"DIS\", \"EMP\", \"RES\"]]\n",
        "total_scale_results = np.array([[getTotalDisEmpRes(i, game) for game in [False, True]] for i in range(questionnaire_answers_normalized.shape[0])])\n",
        "total_scale_results = total_scale_results.reshape((len(questionnaire_answers_normalized),len(total_scale_headers)))"
      ],
      "execution_count": 0,
      "outputs": []
    },
    {
      "cell_type": "code",
      "metadata": {
        "id": "qjd05v5VP1Ye",
        "colab_type": "code",
        "colab": {}
      },
      "source": [
        "def save_as_csv():\n",
        "  with open('sorted_results.csv', mode='w') as sorted_results_file:\n",
        "      csv_writer = csv.writer(sorted_results_file, delimiter='\\t', quotechar='\"', quoting=csv.QUOTE_MINIMAL)\n",
        "      sorted_results_header = [\"Nr\", \"Gender\", \"Age\"]\n",
        "      sorted_results_header.extend(combined_header)\n",
        "      sorted_results_header.extend(total_scale_headers)\n",
        "      csv_writer.writerow(sorted_results_header)\n",
        "      for i in range(combined_results.shape[0]):\n",
        "          row = [i, genders[i], ages[i]]\n",
        "          row.extend(combined_results[i,:])\n",
        "          row.extend(total_scale_results[i,:])\n",
        "          csv_writer.writerow(row)\n",
        "          \n",
        "      moderow = [\"Mode\", \"-\", stats.mode(ages)[0][0]]\n",
        "      moderow.extend([stats.mode(combined_results[:, column])[0][0] \n",
        "                        for column in range(combined_results.shape[1])])\n",
        "      moderow.extend([stats.mode(total_scale_results[:, column])[0][0] \n",
        "                        for column in range(total_scale_results.shape[1])])\n",
        "      csv_writer.writerow(moderow)     \n",
        "      \n",
        "      medianrow = [\"Median\", \"-\", np.median(ages)]\n",
        "      medianrow.extend([np.median(combined_results[:, column]) \n",
        "                        for column in range(combined_results.shape[1])])\n",
        "      medianrow.extend([np.median(total_scale_results[:, column]) \n",
        "                        for column in range(total_scale_results.shape[1])])\n",
        "      csv_writer.writerow(medianrow)\n",
        "      \n",
        "      meanrow = [\"Mean\", \"-\", np.around(np.mean(ages),decimals = 2)]\n",
        "      meanrow.extend([np.around(np.mean(combined_results[:, column]),decimals = 2) \n",
        "                        for column in range(combined_results.shape[1])])\n",
        "      meanrow.extend([np.around(np.mean(total_scale_results[:, column]), decimals = 2) \n",
        "                        for column in range(total_scale_results.shape[1])])\n",
        "      csv_writer.writerow(meanrow)\n",
        "      \n",
        "      stdrow = [\"STD\", \"-\", np.around(np.std(ages),decimals = 2)]\n",
        "      stdrow.extend([np.around(np.std(combined_results[:, column]),decimals = 2) \n",
        "                        for column in range(combined_results.shape[1])])\n",
        "      stdrow.extend([np.around(np.std(total_scale_results[:, column]), decimals = 2) \n",
        "                        for column in range(total_scale_results.shape[1])])\n",
        "      csv_writer.writerow(stdrow)"
      ],
      "execution_count": 0,
      "outputs": []
    },
    {
      "cell_type": "code",
      "metadata": {
        "id": "Sjnjg5nlP1Yp",
        "colab_type": "code",
        "colab": {}
      },
      "source": [
        "rmses = [math.sqrt(mse(questionnaire_answers_normalized[:, column], rpg_answers_normalized[:, column])) for column in range(rpg_answers_normalized.shape[1])]"
      ],
      "execution_count": 0,
      "outputs": []
    },
    {
      "cell_type": "code",
      "metadata": {
        "id": "_Bl6_SDTP1ZA",
        "colab_type": "code",
        "colab": {}
      },
      "source": [
        "def plot_rmses(values, labels):\n",
        "  width = 0.1  # the width of the bars\n",
        "  x = np.arange(0, len(labels)*width, width)  # the label locations\n",
        "\n",
        "\n",
        "  fig, ax = plt.subplots(figsize=(len(rmses)/2, 10))\n",
        "  rects1 = ax.bar(x, rmses, width/2)\n",
        "\n",
        "  ax.set_ylabel('RMSE')\n",
        "  ax.set_title('RMSE between questionnaire item and corresponding game situation')\n",
        "  ax.set_xticks(x)\n",
        "  ax.set_xticklabels(labels, rotation=40, ha=\"right\")\n",
        "\n",
        "  fig.tight_layout()\n",
        "\n",
        "# plot_rmses(rmses, questionnaire_labels.values())"
      ],
      "execution_count": 0,
      "outputs": []
    },
    {
      "cell_type": "code",
      "metadata": {
        "id": "YcoyZWzSP1ZJ",
        "colab_type": "code",
        "colab": {}
      },
      "source": [
        "df_game = pandas.DataFrame(rpg_answers_normalized, columns = [ih + \"_GAME\" for ih in item_header])\n",
        "df_questionnaire = pandas.DataFrame(questionnaire_answers_normalized, columns = item_header)\n",
        "df_scales = pandas.DataFrame(np.array([getTotalDisEmpRes(i, False)\n",
        " for i in range(questionnaire_answers_normalized.shape[0])]), columns = [\"DIS\", \"EMP\", \"RES\"])\n",
        "df_scales_game = pandas.DataFrame(np.array([getTotalDisEmpRes(i, True)\n",
        " for i in range(questionnaire_answers_normalized.shape[0])]), columns = [\"DIS\", \"EMP\", \"RES\"])\n"
      ],
      "execution_count": 0,
      "outputs": []
    },
    {
      "cell_type": "code",
      "metadata": {
        "id": "tTI-p1g1fiuP",
        "colab_type": "code",
        "colab": {}
      },
      "source": [
        "correlations = [[stats.spearmanr(df_game.to_numpy()[:, col_a], df_questionnaire.to_numpy()[:, col_b], nan_policy='raise')[0] for col_a in range(df_game.shape[1])] for col_b in range(df_game.shape[1])]\n",
        "correlations = np.array(correlations)"
      ],
      "execution_count": 0,
      "outputs": []
    },
    {
      "cell_type": "code",
      "metadata": {
        "id": "AiW4giDIiGT7",
        "colab_type": "code",
        "colab": {}
      },
      "source": [
        "def plot_corr(df_game, df_questionnaire):\n",
        "  correlations = [[stats.spearmanr(df_game.to_numpy()[:, col_a], df_questionnaire.to_numpy()[:, col_b], nan_policy='raise')[0] for col_a in range(df_game.shape[1])] for col_b in range(df_game.shape[1])]\n",
        "  correlations = np.array(correlations)\n",
        "\n",
        "  fig, ax = plt.subplots(figsize = (20,20))\n",
        "  im = ax.imshow(correlations)\n",
        "\n",
        "  # We want to show all ticks...\n",
        "  ax.set_xticks(np.arange(correlations.shape[0]))\n",
        "  ax.set_yticks(np.arange(correlations.shape[0]))\n",
        "  # ... and label them with the respective list entries\n",
        "  ax.set_xticklabels(item_header)\n",
        "  ax.set_yticklabels([ih + \"_GAME\" for ih in item_header])\n",
        "\n",
        "  plt.colorbar(im)\n",
        "  # Rotate the tick labels and set their alignment.\n",
        "  plt.setp(ax.get_xticklabels(), rotation=45, ha=\"right\",\n",
        "          rotation_mode=\"anchor\")\n",
        "\n",
        "  ax.set_title(\"Correlation Matrix of Game Situations and Questionnaire Items\")\n",
        "  fig.tight_layout()\n",
        "  plt.show()"
      ],
      "execution_count": 0,
      "outputs": []
    },
    {
      "cell_type": "code",
      "metadata": {
        "id": "itSwMnS7mrhU",
        "colab_type": "code",
        "colab": {}
      },
      "source": [
        "plot_corr(df_scales_game, df_scales)"
      ],
      "execution_count": 0,
      "outputs": []
    },
    {
      "cell_type": "code",
      "metadata": {
        "id": "qieC8LuTCfqy",
        "colab_type": "code",
        "colab": {}
      },
      "source": [
        ""
      ],
      "execution_count": 0,
      "outputs": []
    },
    {
      "cell_type": "code",
      "metadata": {
        "id": "efC_2D2hnUlM",
        "colab_type": "code",
        "colab": {}
      },
      "source": [
        "df_questionnaire.shape"
      ],
      "execution_count": 0,
      "outputs": []
    },
    {
      "cell_type": "code",
      "metadata": {
        "id": "h_-DIE7RnV-0",
        "colab_type": "code",
        "colab": {}
      },
      "source": [
        ""
      ],
      "execution_count": 0,
      "outputs": []
    }
  ]
}